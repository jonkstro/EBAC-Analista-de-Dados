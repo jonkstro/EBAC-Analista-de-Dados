{
  "nbformat": 4,
  "nbformat_minor": 0,
  "metadata": {
    "colab": {
      "name": "module_2_exercise.ipynb",
      "provenance": [],
      "collapsed_sections": [],
      "toc_visible": true,
      "include_colab_link": true
    },
    "kernelspec": {
      "name": "python3",
      "display_name": "Python 3"
    }
  },
  "cells": [
    {
      "cell_type": "markdown",
      "metadata": {
        "id": "view-in-github",
        "colab_type": "text"
      },
      "source": [
        "<a href=\"https://colab.research.google.com/github/jonkstro/EBAC-Analista-de-Dados/blob/main/module_2_exercise.ipynb\" target=\"_parent\"><img src=\"https://colab.research.google.com/assets/colab-badge.svg\" alt=\"Open In Colab\"/></a>"
      ]
    },
    {
      "cell_type": "markdown",
      "metadata": {
        "id": "KJqp9AANOCtf"
      },
      "source": [
        "<img src=\"https://raw.githubusercontent.com/andre-marcos-perez/ebac-course-utils/main/media/logo/newebac_logo_black_half.png\" alt=\"ebac-logo\">\n",
        "\n",
        "---\n",
        "\n",
        "# **Módulo** | Python: Estruturas de Dados\n",
        "Caderno de **Exercícios**<br> \n",
        "Professor [André Perez](https://www.linkedin.com/in/andremarcosperez/)\n",
        "\n",
        "---"
      ]
    },
    {
      "cell_type": "markdown",
      "metadata": {
        "id": "d9jDtUbDOE1-"
      },
      "source": [
        "# **Tópicos**\n",
        "\n",
        "<ol type=\"1\">\n",
        "  <li>Listas;</li>\n",
        "  <li>Conjuntos;</li>\n",
        "  <li>Dicionários.</li>\n",
        "</ol>"
      ]
    },
    {
      "cell_type": "markdown",
      "metadata": {
        "id": "SmoHgt-lwkpD"
      },
      "source": [
        "---"
      ]
    },
    {
      "cell_type": "markdown",
      "metadata": {
        "id": "GABI6OW8OfQ2"
      },
      "source": [
        "# **Exercícios**"
      ]
    },
    {
      "cell_type": "markdown",
      "metadata": {
        "id": "muD1vxozykSC"
      },
      "source": [
        "## 1\\. Listas"
      ]
    },
    {
      "cell_type": "markdown",
      "metadata": {
        "id": "ahrFfCuBxJKs"
      },
      "source": [
        "Criei uma lista chamada `filmes` com o nome dos 10 primeiros filmes mais bem avaliados no site no [IMDB](https://www.imdb.com/chart/top/). Imprima o resultado."
      ]
    },
    {
      "cell_type": "code",
      "metadata": {
        "id": "OgL6Hv3bzOHI"
      },
      "source": [
        "filmes = ['um sonho de liberdade',\n",
        "          'o poderoso chefão',\n",
        "          'batman, o cavaleiro das trevas',\n",
        "          'o poderoso chefão 2',\n",
        "          '12 homens e uma sentença',\n",
        "          'a lista de shindler',\n",
        "          'o senhor dos aneis',\n",
        "          'pulp fiction',\n",
        "          'o senhor dos aneis 2',\n",
        "          'forrest gump'\n",
        "          ]"
      ],
      "execution_count": 36,
      "outputs": []
    },
    {
      "cell_type": "markdown",
      "metadata": {
        "id": "KI9zQRT2xa7m"
      },
      "source": [
        "Simule a movimentação do *ranking*. Utilize os métodos `insert` e `pop` para trocar a posição do primeiro e do segundo filme da lista. Imprima o resultado.\n",
        "\n"
      ]
    },
    {
      "cell_type": "code",
      "metadata": {
        "id": "zX3mA3_GzrXH",
        "colab": {
          "base_uri": "https://localhost:8080/"
        },
        "outputId": "3fa649e8-5cac-4fe3-9eec-408889fa274c"
      },
      "source": [
        "removido = filmes.pop(1)\n",
        "print(len(filmes))\n",
        "filmes.insert(0, filmes[0])\n",
        "filmes[0] = removido\n",
        "filmes"
      ],
      "execution_count": 37,
      "outputs": [
        {
          "output_type": "stream",
          "name": "stdout",
          "text": [
            "9\n"
          ]
        },
        {
          "output_type": "execute_result",
          "data": {
            "text/plain": [
              "['o poderoso chefão',\n",
              " 'um sonho de liberdade',\n",
              " 'batman, o cavaleiro das trevas',\n",
              " 'o poderoso chefão 2',\n",
              " '12 homens e uma sentença',\n",
              " 'a lista de shindler',\n",
              " 'o senhor dos aneis',\n",
              " 'pulp fiction',\n",
              " 'o senhor dos aneis 2',\n",
              " 'forrest gump']"
            ]
          },
          "metadata": {},
          "execution_count": 37
        }
      ]
    },
    {
      "cell_type": "markdown",
      "metadata": {
        "id": "zMN1Q3jdwoJm"
      },
      "source": [
        "---"
      ]
    },
    {
      "cell_type": "markdown",
      "metadata": {
        "id": "lxa5L6uF0ZJE"
      },
      "source": [
        "## 2\\. Conjuntos"
      ]
    },
    {
      "cell_type": "markdown",
      "metadata": {
        "id": "9JahS2Kj0d5u"
      },
      "source": [
        "Aconteceu um erro no seu *ranking*. Simule a duplicação dos três últimos filmes da lista. Imprima o resultado."
      ]
    },
    {
      "cell_type": "code",
      "metadata": {
        "id": "BnjnLBNC6PGe",
        "colab": {
          "base_uri": "https://localhost:8080/"
        },
        "outputId": "ec6e5a0a-00bc-40a4-e148-8c2b66fbbfd9"
      },
      "source": [
        "for x in range(2):\n",
        "  filmes.append('forrest gump')\n",
        "filmes"
      ],
      "execution_count": 38,
      "outputs": [
        {
          "output_type": "execute_result",
          "data": {
            "text/plain": [
              "['o poderoso chefão',\n",
              " 'um sonho de liberdade',\n",
              " 'batman, o cavaleiro das trevas',\n",
              " 'o poderoso chefão 2',\n",
              " '12 homens e uma sentença',\n",
              " 'a lista de shindler',\n",
              " 'o senhor dos aneis',\n",
              " 'pulp fiction',\n",
              " 'o senhor dos aneis 2',\n",
              " 'forrest gump',\n",
              " 'forrest gump',\n",
              " 'forrest gump']"
            ]
          },
          "metadata": {},
          "execution_count": 38
        }
      ]
    },
    {
      "cell_type": "markdown",
      "metadata": {
        "id": "suxTfCJB6ZiX"
      },
      "source": [
        "Utiliza a conversão `set` e `list` para remover os valores duplicados. Imprima o resultado. "
      ]
    },
    {
      "cell_type": "code",
      "metadata": {
        "id": "ZvUGN-0n6joM",
        "colab": {
          "base_uri": "https://localhost:8080/"
        },
        "outputId": "3e8fd406-079d-489c-dc6c-f13de2fea5a5"
      },
      "source": [
        "lista=set(filmes)\n",
        "filmes=list(lista)\n",
        "filmes"
      ],
      "execution_count": 39,
      "outputs": [
        {
          "output_type": "execute_result",
          "data": {
            "text/plain": [
              "['o poderoso chefão 2',\n",
              " 'a lista de shindler',\n",
              " 'batman, o cavaleiro das trevas',\n",
              " 'o senhor dos aneis 2',\n",
              " 'o poderoso chefão',\n",
              " '12 homens e uma sentença',\n",
              " 'o senhor dos aneis',\n",
              " 'pulp fiction',\n",
              " 'forrest gump',\n",
              " 'um sonho de liberdade']"
            ]
          },
          "metadata": {},
          "execution_count": 39
        }
      ]
    },
    {
      "cell_type": "markdown",
      "metadata": {
        "id": "ShkK35eQ6pAM"
      },
      "source": [
        "---"
      ]
    },
    {
      "cell_type": "markdown",
      "metadata": {
        "id": "EL_FzmxL6rTv"
      },
      "source": [
        "## 3\\. Dicionários"
      ]
    },
    {
      "cell_type": "markdown",
      "metadata": {
        "id": "i8l0gFqRCpfT"
      },
      "source": [
        "Repita os exercícios da parte 1 (listas). Os elementos da lista `filmes` devem ser dicionários no seguinte formato: `{'nome': <nome-do-filme>, 'ano': <ano do filme>}, 'sinopse': <sinopse do filme>}`. "
      ]
    },
    {
      "cell_type": "code",
      "metadata": {
        "id": "tu6MSFwGDnHv",
        "colab": {
          "base_uri": "https://localhost:8080/"
        },
        "outputId": "2006e48c-d9d4-4023-8dae-9e6705f45b51"
      },
      "source": [
        "filmes_dic = {\n",
        "        'filme1':{\n",
        "            'nome':'um sonho de liberdade','ano' : 1994, 'sinopse': 'sinopse teste'   \n",
        "        },\n",
        "        'filme2':{\n",
        "            'nome':'o poderoso chefão', 'ano' : 1972, 'sinopse': 'sinopse teste'\n",
        "        },\n",
        "        'filme3':{\n",
        "            'nome':'batman, o cavaleiro das trevas', 'ano' : 1974, 'sinopse': 'sinopse teste',\n",
        "        },\n",
        "        'filme4':{\n",
        "            'nome': 'o poderoso chefão 2', 'ano' : 1957, 'sinopse': 'sinopse teste',    \n",
        "        },\n",
        "        'filme5':{\n",
        "            \n",
        "        },\n",
        "        \n",
        "        'filme6':{'nome':'12 homens e uma sentença','ano' : 1993, 'sinopse': 'sinopse teste',\n",
        "},\n",
        "        'filme7':{'nome':'a lista de shindler','ano' : 2003, 'sinopse': 'sinopse teste',\n",
        "},\n",
        "        'filme8':{'nome':'o senhor dos aneis','ano' : 1994, 'sinopse': 'sinopse teste',\n",
        "},\n",
        "        'filme9':{'nome':'pulp fiction','ano' : 2001, 'sinopse': 'sinopse teste',\n",
        "},\n",
        "        'filme10':{'nome':'o senhor dos aneis 2','ano' : 1966, 'sinopse': 'sinopse teste',\n",
        "},\n",
        "        \n",
        "        \n",
        "        \n",
        "        \n",
        "}\n",
        "print(filmes_dic['filme1']['nome'])"
      ],
      "execution_count": 50,
      "outputs": [
        {
          "output_type": "stream",
          "name": "stdout",
          "text": [
            "um sonho de liberdade\n"
          ]
        }
      ]
    }
  ]
}